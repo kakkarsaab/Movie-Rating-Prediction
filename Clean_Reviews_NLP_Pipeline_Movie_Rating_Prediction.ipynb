{
  "nbformat": 4,
  "nbformat_minor": 0,
  "metadata": {
    "colab": {
      "name": "Clean Reviews NLP Pipeline-Movie Rating Prediction.ipynb",
      "provenance": [],
      "collapsed_sections": []
    },
    "kernelspec": {
      "name": "python3",
      "display_name": "Python 3"
    }
  },
  "cells": [
    {
      "cell_type": "markdown",
      "metadata": {
        "id": "5AW6cz5G-dJs",
        "colab_type": "text"
      },
      "source": [
        "**Creating a NLP Pipeline to 'Clean' Reviews Data**"
      ]
    },
    {
      "cell_type": "code",
      "metadata": {
        "id": "4ulBPGMavdMh",
        "colab_type": "code",
        "colab": {}
      },
      "source": [
        "#Importing all the necessary packages which are required\n",
        "\n",
        "from nltk.tokenize import RegexpTokenizer\n",
        "from nltk.stem.porter import PorterStemmer\n",
        "from nltk.corpus import stopwords"
      ],
      "execution_count": 0,
      "outputs": []
    },
    {
      "cell_type": "code",
      "metadata": {
        "id": "u_TrHhV05oyy",
        "colab_type": "code",
        "cellView": "both",
        "colab": {}
      },
      "source": [
        "\n",
        "# Downloading the nltk packages\n",
        "import nltk\n",
        "nltk.download('all')\n"
      ],
      "execution_count": 0,
      "outputs": []
    },
    {
      "cell_type": "code",
      "metadata": {
        "id": "-Kiz4Y82BdKk",
        "colab_type": "code",
        "colab": {}
      },
      "source": [
        "sample_text= \" I loved this movie since I was 7 and I saw it on the opening day. It was so touching and beautiful. I strongly recommend seeing for all. It's a movie to watch with your family by far.<br /><br />My MPAA rating: PG-13 for thematic elements, prolonged scenes of disastor, nudity/sexuality and some language.\""
      ],
      "execution_count": 0,
      "outputs": []
    },
    {
      "cell_type": "code",
      "metadata": {
        "id": "nHKfUDmT4cU8",
        "colab_type": "code",
        "colab": {}
      },
      "source": [
        "#Init objects\n",
        "\n",
        "tokenizer= RegexpTokenizer(r'\\w+')\n",
        "eng_stopwords = set(stopwords.words('english'))\n",
        "ps= PorterStemmer()"
      ],
      "execution_count": 0,
      "outputs": []
    },
    {
      "cell_type": "code",
      "metadata": {
        "id": "FS8ETJAP5PKT",
        "colab_type": "code",
        "colab": {}
      },
      "source": [
        "def getStemmedReview(review):\n",
        "  review= review.lower()\n",
        "  review= review.replace('<br /><br />', \" \")\n",
        "  \n",
        "  #Tokenize\n",
        "  tokens = tokenizer.tokenize(review)\n",
        "  new_tokens =[token for token in tokens if token not in eng_stopwords]\n",
        "  stemmed_token = [ps.stem(token) for token in new_tokens]\n",
        "  \n",
        "  cleaned_review = ' '.join(stemmed_token)\n",
        "  \n",
        "  return cleaned_review"
      ],
      "execution_count": 0,
      "outputs": []
    },
    {
      "cell_type": "code",
      "metadata": {
        "id": "wFzo15IOBDMt",
        "colab_type": "code",
        "outputId": "d813ac7c-3441-4926-a6b5-fe3d3eee160d",
        "colab": {
          "base_uri": "https://localhost:8080/",
          "height": 54
        }
      },
      "source": [
        "getStemmedReview(sample_text)"
      ],
      "execution_count": 0,
      "outputs": [
        {
          "output_type": "execute_result",
          "data": {
            "text/plain": [
              "'love movi sinc 7 saw open day touch beauti strongli recommend see movi watch famili far mpaa rate pg 13 themat element prolong scene disastor nuditi sexual languag'"
            ]
          },
          "metadata": {
            "tags": []
          },
          "execution_count": 7
        }
      ]
    },
    {
      "cell_type": "code",
      "metadata": {
        "id": "ok2WGFw0Botr",
        "colab_type": "code",
        "colab": {}
      },
      "source": [
        ""
      ],
      "execution_count": 0,
      "outputs": []
    }
  ]
}